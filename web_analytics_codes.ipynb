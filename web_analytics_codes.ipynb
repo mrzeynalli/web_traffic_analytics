{
 "cells": [
  {
   "attachments": {},
   "cell_type": "markdown",
   "id": "1b134f5a",
   "metadata": {},
   "source": [
    "## Section 1: Importing libraries"
   ]
  },
  {
   "cell_type": "code",
   "execution_count": 56,
   "id": "f3d3c570",
   "metadata": {},
   "outputs": [],
   "source": [
    "# Import necessary libraries\n",
    "import pandas as pd\n",
    "import numpy as np\n",
    "import matplotlib.pyplot as plt\n",
    "import seaborn as sns\n",
    "import warnings\n",
    "warnings.filterwarnings('ignore')"
   ]
  },
  {
   "cell_type": "markdown",
   "id": "e9693e59",
   "metadata": {},
   "source": [
    "## Section 2: Generating data"
   ]
  },
  {
   "cell_type": "code",
   "execution_count": 57,
   "id": "4ea2fa8c",
   "metadata": {},
   "outputs": [],
   "source": [
    "# Define a function that converts a into a line and stores the values accordingly\n",
    "def generate_data_dict(line):\n",
    "    \n",
    "    line = line.rstrip(\"\\n\") # convert the row into a line by stripping over a new-line character\n",
    "    data_rows = line.split(\",\") # split the values in the row by comma chacater\n",
    "    \n",
    "    # Return the value for each feature in a dictionary format\n",
    "    return {'Source': data_rows[0], # the first value in a row - origin/source\n",
    "            'Platform': data_rows[1], # the second value in a row - platform\n",
    "            'Clickstream': data_rows[2:], # the remaining values in a row - pages visited\n",
    "            '# of pages visited': len(data_rows[2:]),}   # the count of the pages visited"
   ]
  },
  {
   "cell_type": "code",
   "execution_count": 58,
   "id": "8d335dca",
   "metadata": {},
   "outputs": [],
   "source": [
    "# Create a list that wil store the values for each visit\n",
    "visitor_data_list = []\n",
    "\n",
    "with open('clickstream_data.csv', 'r') as file: # open the dataset file\n",
    "    \n",
    "    rows = file.readlines() # read each row in the dataset\n",
    "    \n",
    "    for row in rows: # iterate through the rows\n",
    "        \n",
    "        data_dict = generate_data_dict(row) # store the values for each row intoa dictionary\n",
    "        visitor_data_list.append(data_dict) # add the values into a list\n",
    "\n",
    "file.close() # close the dataset file\n",
    "\n",
    "# Convert the visit values into a dataframe\n",
    "visitor_data_df = pd.DataFrame(data=visitor_data_list)"
   ]
  },
  {
   "cell_type": "markdown",
   "id": "2f403c94",
   "metadata": {},
   "source": [
    "## Section 3: Analyzing data"
   ]
  },
  {
   "cell_type": "code",
   "execution_count": 59,
   "id": "fd3214eb",
   "metadata": {},
   "outputs": [],
   "source": [
    "purchase_success_status_list = [] # create a list to visits that ended up in success\n",
    "drop_out_status_list = [] # create a list to visits that dropped out\n",
    "single_page_status_list = [] # create a list to visits that visited only one page\n",
    "\n",
    "# iterate through the indices of the dataframe\n",
    "for index in visitor_data_df.index:\n",
    "\n",
    "    clickstream_list = visitor_data_df.loc[index]['Clickstream'] # seperate the clickstream value, i.e., pages visited\n",
    "\n",
    "    if 'purchase_success' in clickstream_list: # if the visit was successful, i.e., contains 'purhcase_success' page\n",
    "        purchase_success_status_list.append(1)  # add 1 if YES\n",
    "    else:  \n",
    "        purchase_success_status_list.append(0) # add 0 if NO\n",
    "        \n",
    "    if 'purchase_start' in clickstream_list and 'purchase_success' not in clickstream_list: # if the visit was dropped out, i.e., entrance into purchasing page without a success\n",
    "        drop_out_status_list.append(1) # add 1 if YES\n",
    "    else:  \n",
    "        drop_out_status_list.append(0) # add 0 if NO\n",
    "\n",
    "    if len(clickstream_list) == 1: # if the visit contains only 1 page. i.e., a visitor bounced after a single page visit\n",
    "        single_page_status_list.append(1) # add 1 if YES\n",
    "    else:  \n",
    "        single_page_status_list.append(0) # add 0 if NO\n",
    "    \n",
    "# add the respective list values into the dataframe\n",
    "visitor_data_df['Conversion'] = purchase_success_status_list\n",
    "visitor_data_df['Drop-out'] = drop_out_status_list\n",
    "visitor_data_df['Bounce'] = single_page_status_list"
   ]
  },
  {
   "cell_type": "markdown",
   "id": "41d2a370",
   "metadata": {},
   "source": [
    "### Section 3.1: Analyzing the sources"
   ]
  },
  {
   "cell_type": "code",
   "execution_count": null,
   "id": "4853822a",
   "metadata": {},
   "outputs": [],
   "source": [
    "# Groupyby all the values by source, summing the numeric values only\n",
    "source_group_df = visitor_data_df.groupby('Source').sum(numeric_only=True)"
   ]
  },
  {
   "cell_type": "code",
   "execution_count": 61,
   "id": "8b6cdd02",
   "metadata": {},
   "outputs": [],
   "source": [
    "# Create a list that stores the total number of visits per source\n",
    "number_of_visits_per_source = list(visitor_data_df.groupby('Source').count()['Platform'])\n",
    "\n",
    "# Add the total visits to the grouped by dataframe\n",
    "source_group_df['Total Visits'] = number_of_visits_per_source"
   ]
  },
  {
   "cell_type": "code",
   "execution_count": 62,
   "id": "0f31f12c",
   "metadata": {},
   "outputs": [],
   "source": [
    "# Create a function that returns a ratio for a given metric given numerator, denominator, and dataframe\n",
    "def generate_ratio(numerator, denominator, dataframe):\n",
    "    \n",
    "    ratios = [] # Create a list to store the ratio values\n",
    "    \n",
    "    for index in dataframe.index: # For each index\n",
    "\n",
    "        numerator_value = dataframe.at[index, numerator] # Take the numeric from that index\n",
    "        denominator_value = dataframe.at[index, denominator] # Take the denominator from that index\n",
    "\n",
    "        ratio = numerator_value / denominator_value # Calculate the ratio\n",
    "\n",
    "        ratios.append(round(ratio,2)) # Round the ratio into two decimal points\n",
    "        \n",
    "    return ratios # Return the ratios list"
   ]
  },
  {
   "cell_type": "code",
   "execution_count": 63,
   "id": "4c2050f2",
   "metadata": {},
   "outputs": [],
   "source": [
    "# Create the list for columns whose ratios will be calculated\n",
    "list_of_columns_for_ratio_calculation  = ['Conversion', 'Drop-out', 'Bounce']\n",
    "\n",
    "# Iterate through the columns list\n",
    "for column in list_of_columns_for_ratio_calculation:\n",
    "    \n",
    "    # Formulate the column name by adding ratio in the front\n",
    "    column_name = column + ' rate'\n",
    "    \n",
    "    # Generate the ratios and add to the dataframe under the formulated column name\n",
    "    source_group_df[column_name] = generate_ratio(column, 'Total Visits', source_group_df) "
   ]
  },
  {
   "cell_type": "code",
   "execution_count": 64,
   "id": "36f1914b",
   "metadata": {},
   "outputs": [
    {
     "data": {
      "text/html": [
       "<div>\n",
       "<style scoped>\n",
       "    .dataframe tbody tr th:only-of-type {\n",
       "        vertical-align: middle;\n",
       "    }\n",
       "\n",
       "    .dataframe tbody tr th {\n",
       "        vertical-align: top;\n",
       "    }\n",
       "\n",
       "    .dataframe thead th {\n",
       "        text-align: right;\n",
       "    }\n",
       "</style>\n",
       "<table border=\"1\" class=\"dataframe\">\n",
       "  <thead>\n",
       "    <tr style=\"text-align: right;\">\n",
       "      <th></th>\n",
       "      <th># of pages visited</th>\n",
       "      <th>Conversion</th>\n",
       "      <th>Drop-out</th>\n",
       "      <th>Bounce</th>\n",
       "      <th>Total Visits</th>\n",
       "      <th>Conversion rate</th>\n",
       "      <th>Drop-out rate</th>\n",
       "      <th>Bounce rate</th>\n",
       "    </tr>\n",
       "    <tr>\n",
       "      <th>Source</th>\n",
       "      <th></th>\n",
       "      <th></th>\n",
       "      <th></th>\n",
       "      <th></th>\n",
       "      <th></th>\n",
       "      <th></th>\n",
       "      <th></th>\n",
       "      <th></th>\n",
       "    </tr>\n",
       "  </thead>\n",
       "  <tbody>\n",
       "    <tr>\n",
       "      <th>direct</th>\n",
       "      <td>47724</td>\n",
       "      <td>4275</td>\n",
       "      <td>1191</td>\n",
       "      <td>1287</td>\n",
       "      <td>13500</td>\n",
       "      <td>0.32</td>\n",
       "      <td>0.09</td>\n",
       "      <td>0.10</td>\n",
       "    </tr>\n",
       "    <tr>\n",
       "      <th>facebook_advert</th>\n",
       "      <td>19334</td>\n",
       "      <td>93</td>\n",
       "      <td>2728</td>\n",
       "      <td>4262</td>\n",
       "      <td>10000</td>\n",
       "      <td>0.01</td>\n",
       "      <td>0.27</td>\n",
       "      <td>0.43</td>\n",
       "    </tr>\n",
       "    <tr>\n",
       "      <th>facebook_share</th>\n",
       "      <td>177253</td>\n",
       "      <td>6657</td>\n",
       "      <td>12345</td>\n",
       "      <td>8125</td>\n",
       "      <td>51300</td>\n",
       "      <td>0.13</td>\n",
       "      <td>0.24</td>\n",
       "      <td>0.16</td>\n",
       "    </tr>\n",
       "    <tr>\n",
       "      <th>linkedin_advert</th>\n",
       "      <td>8292</td>\n",
       "      <td>504</td>\n",
       "      <td>896</td>\n",
       "      <td>0</td>\n",
       "      <td>2000</td>\n",
       "      <td>0.25</td>\n",
       "      <td>0.45</td>\n",
       "      <td>0.00</td>\n",
       "    </tr>\n",
       "    <tr>\n",
       "      <th>linkedin_share</th>\n",
       "      <td>71015</td>\n",
       "      <td>2546</td>\n",
       "      <td>4913</td>\n",
       "      <td>4239</td>\n",
       "      <td>21200</td>\n",
       "      <td>0.12</td>\n",
       "      <td>0.23</td>\n",
       "      <td>0.20</td>\n",
       "    </tr>\n",
       "    <tr>\n",
       "      <th>partner_advert</th>\n",
       "      <td>19034</td>\n",
       "      <td>545</td>\n",
       "      <td>3000</td>\n",
       "      <td>0</td>\n",
       "      <td>5000</td>\n",
       "      <td>0.11</td>\n",
       "      <td>0.60</td>\n",
       "      <td>0.00</td>\n",
       "    </tr>\n",
       "    <tr>\n",
       "      <th>search</th>\n",
       "      <td>188925</td>\n",
       "      <td>8720</td>\n",
       "      <td>12127</td>\n",
       "      <td>10537</td>\n",
       "      <td>57400</td>\n",
       "      <td>0.15</td>\n",
       "      <td>0.21</td>\n",
       "      <td>0.18</td>\n",
       "    </tr>\n",
       "  </tbody>\n",
       "</table>\n",
       "</div>"
      ],
      "text/plain": [
       "                 # of pages visited  Conversion  Drop-out  Bounce  \\\n",
       "Source                                                              \n",
       "direct                        47724        4275      1191    1287   \n",
       "facebook_advert               19334          93      2728    4262   \n",
       "facebook_share               177253        6657     12345    8125   \n",
       "linkedin_advert                8292         504       896       0   \n",
       "linkedin_share                71015        2546      4913    4239   \n",
       "partner_advert                19034         545      3000       0   \n",
       "search                       188925        8720     12127   10537   \n",
       "\n",
       "                 Total Visits  Conversion rate  Drop-out rate  Bounce rate  \n",
       "Source                                                                      \n",
       "direct                  13500             0.32           0.09         0.10  \n",
       "facebook_advert         10000             0.01           0.27         0.43  \n",
       "facebook_share          51300             0.13           0.24         0.16  \n",
       "linkedin_advert          2000             0.25           0.45         0.00  \n",
       "linkedin_share          21200             0.12           0.23         0.20  \n",
       "partner_advert           5000             0.11           0.60         0.00  \n",
       "search                  57400             0.15           0.21         0.18  "
      ]
     },
     "execution_count": 64,
     "metadata": {},
     "output_type": "execute_result"
    }
   ],
   "source": [
    "# Display the source stats\n",
    "source_group_df"
   ]
  },
  {
   "cell_type": "code",
   "execution_count": 65,
   "id": "31bfb779",
   "metadata": {},
   "outputs": [
    {
     "data": {
      "text/html": [
       "<div>\n",
       "<style scoped>\n",
       "    .dataframe tbody tr th:only-of-type {\n",
       "        vertical-align: middle;\n",
       "    }\n",
       "\n",
       "    .dataframe tbody tr th {\n",
       "        vertical-align: top;\n",
       "    }\n",
       "\n",
       "    .dataframe thead th {\n",
       "        text-align: right;\n",
       "    }\n",
       "</style>\n",
       "<table border=\"1\" class=\"dataframe\">\n",
       "  <thead>\n",
       "    <tr style=\"text-align: right;\">\n",
       "      <th></th>\n",
       "      <th># of pages visited</th>\n",
       "      <th>Conversion</th>\n",
       "      <th>Drop-out</th>\n",
       "      <th>Bounce</th>\n",
       "      <th>Total Visits</th>\n",
       "      <th>Conversion rate</th>\n",
       "      <th>Drop-out rate</th>\n",
       "      <th>Bounce rate</th>\n",
       "    </tr>\n",
       "    <tr>\n",
       "      <th>Source</th>\n",
       "      <th></th>\n",
       "      <th></th>\n",
       "      <th></th>\n",
       "      <th></th>\n",
       "      <th></th>\n",
       "      <th></th>\n",
       "      <th></th>\n",
       "      <th></th>\n",
       "    </tr>\n",
       "  </thead>\n",
       "  <tbody>\n",
       "    <tr>\n",
       "      <th>facebook_advert</th>\n",
       "      <td>19334</td>\n",
       "      <td>93</td>\n",
       "      <td>2728</td>\n",
       "      <td>4262</td>\n",
       "      <td>10000</td>\n",
       "      <td>0.01</td>\n",
       "      <td>0.27</td>\n",
       "      <td>0.43</td>\n",
       "    </tr>\n",
       "    <tr>\n",
       "      <th>linkedin_advert</th>\n",
       "      <td>8292</td>\n",
       "      <td>504</td>\n",
       "      <td>896</td>\n",
       "      <td>0</td>\n",
       "      <td>2000</td>\n",
       "      <td>0.25</td>\n",
       "      <td>0.45</td>\n",
       "      <td>0.00</td>\n",
       "    </tr>\n",
       "    <tr>\n",
       "      <th>partner_advert</th>\n",
       "      <td>19034</td>\n",
       "      <td>545</td>\n",
       "      <td>3000</td>\n",
       "      <td>0</td>\n",
       "      <td>5000</td>\n",
       "      <td>0.11</td>\n",
       "      <td>0.60</td>\n",
       "      <td>0.00</td>\n",
       "    </tr>\n",
       "  </tbody>\n",
       "</table>\n",
       "</div>"
      ],
      "text/plain": [
       "                 # of pages visited  Conversion  Drop-out  Bounce  \\\n",
       "Source                                                              \n",
       "facebook_advert               19334          93      2728    4262   \n",
       "linkedin_advert                8292         504       896       0   \n",
       "partner_advert                19034         545      3000       0   \n",
       "\n",
       "                 Total Visits  Conversion rate  Drop-out rate  Bounce rate  \n",
       "Source                                                                      \n",
       "facebook_advert         10000             0.01           0.27         0.43  \n",
       "linkedin_advert          2000             0.25           0.45         0.00  \n",
       "partner_advert           5000             0.11           0.60         0.00  "
      ]
     },
     "execution_count": 65,
     "metadata": {},
     "output_type": "execute_result"
    }
   ],
   "source": [
    "# Display the source stats for only three advertisement campaigns\n",
    "source_group_df.loc[['facebook_advert','linkedin_advert','partner_advert']]"
   ]
  },
  {
   "cell_type": "markdown",
   "id": "f82dae74",
   "metadata": {},
   "source": [
    "### Section 3.2: Analyzing the platforms"
   ]
  },
  {
   "cell_type": "code",
   "execution_count": null,
   "id": "efc0328a",
   "metadata": {},
   "outputs": [],
   "source": [
    "# Groupyby all the values by platform, summing the numeric values only\n",
    "platform_group_df = visitor_data_df.groupby('Platform').sum(numeric_only=True)"
   ]
  },
  {
   "cell_type": "code",
   "execution_count": 66,
   "id": "e7934aa2",
   "metadata": {},
   "outputs": [],
   "source": [
    "# Create a list that stores the total number of visits per platform\n",
    "number_of_visits_per_platform = list(visitor_data_df.groupby('Platform').count()['Source'])\n",
    "\n",
    "# Add the total visits to the grouped by dataframe\n",
    "platform_group_df['Total visits'] = number_of_visits_per_platform"
   ]
  },
  {
   "cell_type": "code",
   "execution_count": 67,
   "id": "51d717ec",
   "metadata": {},
   "outputs": [],
   "source": [
    "# Iterate through the columns list\n",
    "for column in list_of_columns_for_ratio_calculation:\n",
    "    \n",
    "    # Formulate the column name by adding ratio in the front\n",
    "    column_name = column + ' rate'\n",
    "    \n",
    "    # Generate the ratios and add to the dataframe under the formulated column name\n",
    "    platform_group_df[column_name] = generate_ratio(column, 'Total visits', platform_group_df)"
   ]
  },
  {
   "cell_type": "code",
   "execution_count": 68,
   "id": "8c3e29f5",
   "metadata": {},
   "outputs": [
    {
     "data": {
      "text/html": [
       "<div>\n",
       "<style scoped>\n",
       "    .dataframe tbody tr th:only-of-type {\n",
       "        vertical-align: middle;\n",
       "    }\n",
       "\n",
       "    .dataframe tbody tr th {\n",
       "        vertical-align: top;\n",
       "    }\n",
       "\n",
       "    .dataframe thead th {\n",
       "        text-align: right;\n",
       "    }\n",
       "</style>\n",
       "<table border=\"1\" class=\"dataframe\">\n",
       "  <thead>\n",
       "    <tr style=\"text-align: right;\">\n",
       "      <th></th>\n",
       "      <th># of pages visited</th>\n",
       "      <th>Conversion</th>\n",
       "      <th>Drop-out</th>\n",
       "      <th>Bounce</th>\n",
       "      <th>Total visits</th>\n",
       "      <th>Conversion rate</th>\n",
       "      <th>Drop-out rate</th>\n",
       "      <th>Bounce rate</th>\n",
       "    </tr>\n",
       "    <tr>\n",
       "      <th>Platform</th>\n",
       "      <th></th>\n",
       "      <th></th>\n",
       "      <th></th>\n",
       "      <th></th>\n",
       "      <th></th>\n",
       "      <th></th>\n",
       "      <th></th>\n",
       "      <th></th>\n",
       "    </tr>\n",
       "  </thead>\n",
       "  <tbody>\n",
       "    <tr>\n",
       "      <th>android</th>\n",
       "      <td>148686</td>\n",
       "      <td>6642</td>\n",
       "      <td>10003</td>\n",
       "      <td>8003</td>\n",
       "      <td>44500</td>\n",
       "      <td>0.15</td>\n",
       "      <td>0.22</td>\n",
       "      <td>0.18</td>\n",
       "    </tr>\n",
       "    <tr>\n",
       "      <th>ios</th>\n",
       "      <td>145639</td>\n",
       "      <td>5649</td>\n",
       "      <td>10969</td>\n",
       "      <td>8001</td>\n",
       "      <td>44500</td>\n",
       "      <td>0.13</td>\n",
       "      <td>0.25</td>\n",
       "      <td>0.18</td>\n",
       "    </tr>\n",
       "    <tr>\n",
       "      <th>mac</th>\n",
       "      <td>94268</td>\n",
       "      <td>4481</td>\n",
       "      <td>6296</td>\n",
       "      <td>4497</td>\n",
       "      <td>28000</td>\n",
       "      <td>0.16</td>\n",
       "      <td>0.22</td>\n",
       "      <td>0.16</td>\n",
       "    </tr>\n",
       "    <tr>\n",
       "      <th>unknown</th>\n",
       "      <td>48723</td>\n",
       "      <td>1976</td>\n",
       "      <td>3704</td>\n",
       "      <td>3341</td>\n",
       "      <td>15400</td>\n",
       "      <td>0.13</td>\n",
       "      <td>0.24</td>\n",
       "      <td>0.22</td>\n",
       "    </tr>\n",
       "    <tr>\n",
       "      <th>windows</th>\n",
       "      <td>94261</td>\n",
       "      <td>4592</td>\n",
       "      <td>6228</td>\n",
       "      <td>4608</td>\n",
       "      <td>28000</td>\n",
       "      <td>0.16</td>\n",
       "      <td>0.22</td>\n",
       "      <td>0.16</td>\n",
       "    </tr>\n",
       "  </tbody>\n",
       "</table>\n",
       "</div>"
      ],
      "text/plain": [
       "          # of pages visited  Conversion  Drop-out  Bounce  Total visits  \\\n",
       "Platform                                                                   \n",
       "android               148686        6642     10003    8003         44500   \n",
       "ios                   145639        5649     10969    8001         44500   \n",
       "mac                    94268        4481      6296    4497         28000   \n",
       "unknown                48723        1976      3704    3341         15400   \n",
       "windows                94261        4592      6228    4608         28000   \n",
       "\n",
       "          Conversion rate  Drop-out rate  Bounce rate  \n",
       "Platform                                               \n",
       "android              0.15           0.22         0.18  \n",
       "ios                  0.13           0.25         0.18  \n",
       "mac                  0.16           0.22         0.16  \n",
       "unknown              0.13           0.24         0.22  \n",
       "windows              0.16           0.22         0.16  "
      ]
     },
     "execution_count": 68,
     "metadata": {},
     "output_type": "execute_result"
    }
   ],
   "source": [
    "# Display the platform stats\n",
    "platform_group_df"
   ]
  },
  {
   "cell_type": "code",
   "execution_count": 69,
   "id": "a47bf19f",
   "metadata": {},
   "outputs": [
    {
     "name": "stdout",
     "output_type": "stream",
     "text": [
      "The total number of mobile visitors are 89000\n",
      "The total number of desktop visitors are 56000\n"
     ]
    }
   ],
   "source": [
    "# Group the data r=frame by mobile visitors, summing up the values\n",
    "mobile_visitors_count = platform_group_df.loc[['android', 'ios']]['Total visits'].sum()\n",
    "\n",
    "# Group the data r=frame by desktop visitors, summing up the values\n",
    "desktop_visitors_count = platform_group_df.loc[['windows', 'mac']]['Total visits'].sum()\n",
    "\n",
    "print(f\"The total number of mobile visitors are {mobile_visitors_count}\")\n",
    "print(f\"The total number of desktop visitors are {desktop_visitors_count}\")"
   ]
  },
  {
   "cell_type": "markdown",
   "id": "1bc570a6",
   "metadata": {},
   "source": [
    "### Section 3.3: Analyzing successful transactions"
   ]
  },
  {
   "cell_type": "code",
   "execution_count": 70,
   "id": "97f43381",
   "metadata": {},
   "outputs": [],
   "source": [
    "# Store only successful visits from the dataframe\n",
    "successful_visits = visitor_data_df[visitor_data_df['Conversion'] == 1]"
   ]
  },
  {
   "cell_type": "code",
   "execution_count": 71,
   "id": "57e6da2b",
   "metadata": {},
   "outputs": [],
   "source": [
    "# Create a function that returns the blog visits\n",
    "def return_blog_visits(blog_name, dataframe):\n",
    "    \n",
    "    blog_visits = 0 # Create the variable counting the blog visits\n",
    "    \n",
    "    for index in dataframe.index: # Iterate through the indices of dataframe\n",
    "        \n",
    "        clickstream = dataframe.at[index, 'Clickstream'] # Obtain the clickstream for each index, or visit\n",
    "        \n",
    "        if blog_name in clickstream: # Check if the blog name is present in the clickstream\n",
    "            \n",
    "            blog_visits += 1 # Add 1 to the count if YES\n",
    "            \n",
    "    return blog_visits # Return the blog visits count"
   ]
  },
  {
   "cell_type": "code",
   "execution_count": 72,
   "id": "91e1bd6b",
   "metadata": {},
   "outputs": [
    {
     "name": "stdout",
     "output_type": "stream",
     "text": [
      "Out of 23340 succesful purchases, Blog 1 page has been opened 5567 times , which has a ration of 0.24\n",
      "Out of 23340 succesful purchases, Blog 2 page has been opened 4470 times , which has a ration of 0.19\n"
     ]
    }
   ],
   "source": [
    "successful_purhcases_count = len(successful_visits) # Number of successful visits\n",
    "\n",
    "blog_1_returns = return_blog_visits('blog_1', successful_visits) # Blog 1 visit count\n",
    "blog_2_returns = return_blog_visits('blog_2', successful_visits) # Blog 2 visit count\n",
    "\n",
    "print(f\"Out of {successful_purhcases_count} succesful purchases, Blog 1 page has been opened {blog_1_returns} times\",\n",
    "      f\", which has a ration of {round(blog_1_returns/successful_purhcases_count,2)}\")\n",
    "\n",
    "print(f\"Out of {successful_purhcases_count} succesful purchases, Blog 2 page has been opened {blog_2_returns} times\",\n",
    "      f\", which has a ration of {round(blog_2_returns/successful_purhcases_count,2)}\")"
   ]
  },
  {
   "cell_type": "markdown",
   "id": "18a60987",
   "metadata": {},
   "source": [
    "### Section 3.4: Analyzing the pages causing struggle"
   ]
  },
  {
   "cell_type": "code",
   "execution_count": 73,
   "id": "b1684f24",
   "metadata": {},
   "outputs": [],
   "source": [
    "pages_bounced = [] # Create the variable to store the pages bounced\n",
    "\n",
    "for index in visitor_data_df.index: # iterate through the indices of dataframe\n",
    "    \n",
    "    clickstream = visitor_data_df.at[index, 'Clickstream'] # Obtain the clickstream for each index, or visit\n",
    "    \n",
    "    if len(clickstream) == 1: # Check if the lenght of the clickstream is 1, i.e., it is visited only one time\n",
    "        \n",
    "        page_bounced = clickstream[0] # If YES, take the page name\n",
    "        \n",
    "        pages_bounced.append(page_bounced) # Add the page name into the list\n",
    "    \n",
    "    else:\n",
    "        \n",
    "        pages_bounced.append(r\"N\\A\") # if NO, add 'N\\A', meaning the visit was not bounced\n",
    "            \n",
    "visitor_data_df['Bounced page'] = pages_bounced # Add the bounced page names into the dataframe"
   ]
  },
  {
   "cell_type": "code",
   "execution_count": 74,
   "id": "7e7e57d8",
   "metadata": {},
   "outputs": [],
   "source": [
    "# Slice the visits in which bounces occured: 'purchase_success', 'contact_us', 'N\\A' are unfiltered as they cannot be considered bounced\n",
    "visitor_data_exited_df = visitor_data_df[(visitor_data_df['Bounced page'] != \"purchase_success\") &\n",
    "                                        (visitor_data_df['Bounced page'] != \"contact_us\") &\n",
    "                                        (visitor_data_df['Bounced page'] != \"N\\A\")]"
   ]
  },
  {
   "cell_type": "code",
   "execution_count": 75,
   "id": "d419570c",
   "metadata": {},
   "outputs": [],
   "source": [
    "# Create a function that returns the bounce rate for each page by platform\n",
    "def count_pages_per_platform(platform, dataframe):\n",
    "    \n",
    "    filtered_df = dataframe[dataframe['Platform'] == platform] # filter for the platform put in\n",
    "    grouped_df = filtered_df.groupby('Bounced page').count() # group by the bounced page, counting the values\n",
    "    \n",
    "    bounce_rates = [] # create a list to store bounce rates\n",
    "\n",
    "    for index in grouped_df.index: # iterate through the indices of the dataframe\n",
    "\n",
    "        bounce = grouped_df.at[index, 'Bounce'] # get the bounce count\n",
    "        total_visits = platform_group_df['Total visits'].loc[platform] # get the total visits\n",
    "\n",
    "        bounce_rate = round(bounce/total_visits, 2) # calculate the bounce rate\n",
    "\n",
    "        bounce_rates.append(bounce_rate) # add the bounce rate to the list\n",
    "    \n",
    "    grouped_df['Bounce rate'] = bounce_rates # add the bounce rates list to the dataframe\n",
    "    \n",
    "    return grouped_df.sort_values(by='Bounce rate',ascending=False)['Bounce rate'] # return bounce rate values of the grouped datafraem, sorted by bounce rates"
   ]
  },
  {
   "cell_type": "code",
   "execution_count": 76,
   "id": "ab20a8e7",
   "metadata": {},
   "outputs": [
    {
     "name": "stdout",
     "output_type": "stream",
     "text": [
      "The IOS platform has exit page counts as the below:\n",
      "Bounced page\n",
      "blog_1                 0.06\n",
      "home                   0.06\n",
      "special_advert_deal    0.02\n",
      "blog_2                 0.01\n",
      "Name: Bounce rate, dtype: float64\n",
      "\n",
      "\n",
      "The ANDROID platform has exit page counts as the below:\n",
      "Bounced page\n",
      "blog_1                 0.06\n",
      "home                   0.06\n",
      "special_advert_deal    0.02\n",
      "blog_2                 0.01\n",
      "Name: Bounce rate, dtype: float64\n",
      "\n",
      "\n",
      "The WINDOWS platform has exit page counts as the below:\n",
      "Bounced page\n",
      "home                   0.07\n",
      "blog_1                 0.03\n",
      "special_advert_deal    0.03\n",
      "blog_2                 0.00\n",
      "Name: Bounce rate, dtype: float64\n",
      "\n",
      "\n",
      "The MAC platform has exit page counts as the below:\n",
      "Bounced page\n",
      "home                   0.07\n",
      "blog_1                 0.03\n",
      "special_advert_deal    0.03\n",
      "blog_2                 0.00\n",
      "Name: Bounce rate, dtype: float64\n",
      "\n",
      "\n",
      "The UNKNOWN platform has exit page counts as the below:\n",
      "Bounced page\n",
      "blog_1                 0.06\n",
      "special_advert_deal    0.06\n",
      "home                   0.04\n",
      "blog_2                 0.01\n",
      "Name: Bounce rate, dtype: float64\n",
      "\n",
      "\n"
     ]
    }
   ],
   "source": [
    "# Obtain the unique platfomr names in a list\n",
    "platforms = list(visitor_data_exited_df['Platform'].unique())\n",
    "\n",
    "for platform in platforms: # iterate through each platform\n",
    "    \n",
    "    # print the stats\n",
    "    print(f\"The {platform.upper()} platform has exit page counts as the below:\")\n",
    "    print(count_pages_per_platform(platform, visitor_data_exited_df))\n",
    "    print(\"\\n\")"
   ]
  },
  {
   "cell_type": "markdown",
   "id": "a30771da",
   "metadata": {},
   "source": [
    "### Section 4: Data Visualisation"
   ]
  },
  {
   "cell_type": "code",
   "execution_count": 77,
   "id": "346f0977",
   "metadata": {},
   "outputs": [
    {
     "data": {
      "image/png": "[encoded data removed]",
      "text/plain": [
       "<Figure size 1000x600 with 1 Axes>"
      ]
     },
     "metadata": {},
     "output_type": "display_data"
    }
   ],
   "source": [
    "# Codes for Figure 1:\n",
    "\n",
    "fig, ax = plt.subplots(figsize = (10,6))\n",
    "\n",
    "colors = ['darkturquoise',\n",
    "'slategrey',\n",
    "'silver',\n",
    "'lightgrey']\n",
    "\n",
    "sources = list(source_group_df.index)\n",
    "\n",
    "visitors = np.array(list(source_group_df['Total Visits']))\n",
    "converted_visitors = np.array(list(source_group_df['Conversion']))\n",
    "bounced_visitors = np.array(list(source_group_df['Bounce']))\n",
    "dropped_out_visitors = np.array(list(source_group_df['Drop-out']))\n",
    "\n",
    "other_visitors = []\n",
    "\n",
    "for index in range(0,len(visitors)):\n",
    "    \n",
    "    other_visitor = visitors[index] - (converted_visitors[index] + bounced_visitors[index] + dropped_out_visitors[index])\n",
    "    other_visitors.append(other_visitor)\n",
    "\n",
    "other_visitors =  np.array(other_visitors)\n",
    "\n",
    "plt.bar(sources, other_visitors , color=colors[0])\n",
    "plt.bar(sources, converted_visitors , bottom= other_visitors, color=colors[1])\n",
    "plt.bar(sources, dropped_out_visitors, bottom=other_visitors+converted_visitors, color=colors[2])\n",
    "plt.bar(sources, bounced_visitors, bottom=other_visitors+converted_visitors+dropped_out_visitors, color=colors[3])\n",
    "\n",
    "plt.xticks(rotation=90)\n",
    "\n",
    "plt.xlabel(\"Source\")\n",
    "plt.ylabel(\"Visitors\")\n",
    "\n",
    "plt.legend([\"Other visitors\", \"Conversion\",\"Drop-out\",\"Bounce\"])\n",
    "\n",
    "plt.title(\"Figure 1: Visitors of Different Types per Each Source\\n\", fontsize=14)\n",
    "\n",
    "plt.show()"
   ]
  },
  {
   "cell_type": "code",
   "execution_count": 99,
   "id": "e087e1ef",
   "metadata": {},
   "outputs": [
    {
     "data": {
      "image/png": "[encoded data removed]",
      "text/plain": [
       "<Figure size 1000x600 with 1 Axes>"
      ]
     },
     "metadata": {},
     "output_type": "display_data"
    }
   ],
   "source": [
    "# Codes for Figure 2:\n",
    "\n",
    "conversion_rates = list(source_group_df['Conversion rate'])\n",
    "sources = list(source_group_df.index)\n",
    "\n",
    "fig, ax = plt.subplots(figsize=(10, 6))\n",
    "plt.title(\"Figure 2: Conversion Rates per Source\", fontsize=14)\n",
    "\n",
    "# Assign colors to the bars based on their index\n",
    "colors = ['#343434' if i == 0 else\n",
    "          '#1877F2' if i  in [1, 2] else\n",
    "          '#0077B7' if i in [3, 4] else\n",
    "          '#2977C1' if i == 5 else \n",
    "          '#117F97' for i in range(len(sources))]\n",
    "\n",
    "ax.bar(sources, conversion_rates, width=0.5, edgecolor='black', color=colors)\n",
    "\n",
    "ax.set_xlabel(\"Sources\", fontsize=12)\n",
    "ax.set_ylabel(\"Conversion Rates (%)\", fontsize=12)\n",
    "\n",
    "ax.set_ylim(0,0.5)\n",
    "\n",
    "plt.xticks(rotation=0)\n",
    "plt.tight_layout()\n",
    "plt.show()"
   ]
  },
  {
   "cell_type": "code",
   "execution_count": 79,
   "id": "1d0642e3",
   "metadata": {},
   "outputs": [
    {
     "data": {
      "text/plain": [
       "(0.15, 0.3)"
      ]
     },
     "execution_count": 79,
     "metadata": {},
     "output_type": "execute_result"
    },
    {
     "data": {
      "image/png": "[encoded data removed]",
      "text/plain": [
       "<Figure size 1000x600 with 1 Axes>"
      ]
     },
     "metadata": {},
     "output_type": "display_data"
    }
   ],
   "source": [
    "# Codes for Figure 3:\n",
    "\n",
    "bounce_rates = list(platform_group_df['Bounce rate'])\n",
    "drop_out_rates = list(platform_group_df['Drop-out rate'])\n",
    "\n",
    "fig, ax = plt.subplots(figsize = (10,6))\n",
    "\n",
    "platforms = list(platform_group_df.index)\n",
    "\n",
    "plt.plot(platforms , bounce_rates , linewidth=2.8 , color = 'darkcyan', label='Bounce rate', marker='o')\n",
    "plt.plot(platforms , drop_out_rates , linewidth=2.8 , color = 'olive', label='Drop-out rate', marker='o')\n",
    "\n",
    "ax.set_title(\"Figure 3: Bounce and Drop-out Rates per Platform\\n\", fontsize=14)\n",
    "\n",
    "ax.set_xlabel(\"Platform\")\n",
    "ax.set_ylabel(\"Rate\")\n",
    "\n",
    "plt.grid(axis='both')\n",
    "\n",
    "ax.set_xticklabels(platforms)\n",
    "\n",
    "plt.legend(loc='upper left')\n",
    "\n",
    "plt.ylim([0.15,0.3])"
   ]
  }
 ],
 "metadata": {
  "kernelspec": {
   "display_name": "Python 3 (ipykernel)",
   "language": "python",
   "name": "python3"
  },
  "language_info": {
   "codemirror_mode": {
    "name": "ipython",
    "version": 3
   },
   "file_extension": ".py",
   "mimetype": "text/x-python",
   "name": "python",
   "nbconvert_exporter": "python",
   "pygments_lexer": "ipython3",
   "version": "3.11.0"
  }
 },
 "nbformat": 4,
 "nbformat_minor": 5
}
